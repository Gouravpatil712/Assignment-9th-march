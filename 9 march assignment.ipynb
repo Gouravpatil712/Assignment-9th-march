{
 "cells": [
  {
   "cell_type": "markdown",
   "id": "95c2c0a8-8ed5-4543-b1c0-ad1d0f25b732",
   "metadata": {},
   "source": [
    "## Question 01 - What are the Probability Mass Function (PMF) and Probability Density Function (PDF)? Explain with an example."
   ]
  },
  {
   "cell_type": "markdown",
   "id": "5973a945-da0b-42e4-aef5-5b032f3b2582",
   "metadata": {},
   "source": [
    "# Answer :-\n",
    "\n",
    "Both Probability Mass Function (PMF) and Probability Density Function (PDF) are mathematical functions used to describe the probability distribution of a discrete and continuous random variable, respectively.\n",
    "\n",
    "The Probability Mass Function (PMF) is used to describe the probability distribution of a discrete random variable, which can take on a finite or countably infinite number of values. It gives the probability of each possible outcome of a random variable. For example, let's consider a coin flip experiment. The possible outcomes are either heads or tails, and each outcome has a probability of 0.5. The PMF of this experiment can be represented as follows:\n",
    "\n",
    "Outcome (X)\tProbability (P(X))\n",
    "Heads\t0.5\n",
    "Tails\t0.5\n"
   ]
  },
  {
   "cell_type": "markdown",
   "id": "d5295448-5b40-46b8-9e1e-a4223b4688fa",
   "metadata": {},
   "source": [
    "The Probability Density Function (PDF) is used to describe the probability distribution of a continuous random variable, which can take on any value within a given range. Unlike PMF, PDF cannot give the probability of a specific outcome but instead gives the probability density at each point. For example, let's consider the height of adult females in a certain population. The PDF of this population can be represented as follows:\n",
    "\n"
   ]
  },
  {
   "cell_type": "markdown",
   "id": "c60373f3-9ea5-4f8d-a0e6-333cd194c9a1",
   "metadata": {},
   "source": [
    "Here, the x-axis represents the height, and the y-axis represents the probability density. The highest point of the curve corresponds to the most likely value of the height, and the area under the curve corresponds to the total probability of all possible heights."
   ]
  },
  {
   "cell_type": "markdown",
   "id": "bb9e9220-010d-4ba7-8a37-6660f1864a52",
   "metadata": {},
   "source": [
    "## Question 02 - What is Cumulative Density Function (CDF)? Explain with an example. Why CDF is used?"
   ]
  },
  {
   "cell_type": "markdown",
   "id": "dc7f160b-bece-4512-abf5-a1771cbe3bd7",
   "metadata": {},
   "source": [
    "# Answer :-\n",
    "\n",
    "A Cumulative Density Function (CDF) is a function that gives the probability that a random variable X is less than or equal to a certain value x, expressed as P(X ≤ x). It represents the cumulative probability distribution of the random variable.\n",
    "\n",
    "For example, consider a fair six-sided die roll. The CDF for this random variable would be a step function, where the probability of rolling a number less than or equal to x would be (1/6)x for x = 1, 2, 3, 4, 5, 6. The CDF would look like a staircase, starting at 0 at x = 0 and increasing by 1/6 at each integer value of x up to 1 at x = 1, 2 at x = 2, and so on up to 6 at x = 6.\n",
    "\n",
    "The CDF is used to calculate probabilities for specific events or ranges of values, and to find percentiles and quantiles of the distribution. It provides a way to visualize the probability distribution of a random variable and can be used to compare different distributions. Additionally, the CDF can be used to generate random numbers from a given distribution"
   ]
  },
  {
   "cell_type": "markdown",
   "id": "42279202-ef40-4d51-a5f9-dced45fbe377",
   "metadata": {},
   "source": [
    "# Question 03 - What are some examples of situations where the normal distribution might be used as a model? Explain how the parameters of the normal distribution relate to the shape of the distribution."
   ]
  },
  {
   "cell_type": "markdown",
   "id": "b2d61bf5-95b9-4e49-a1b1-e5c6ff9dede3",
   "metadata": {},
   "source": [
    "# Answer :-\n",
    "\n",
    "The normal distribution is commonly used to model situations where a variable is influenced by many small, independent factors. Some examples of situations where the normal distribution might be used as a model include:\n",
    "\n",
    "1. Heights of adult humans: The normal distribution can be used to model the distribution of heights in a population, with the mean and standard deviation of the distribution reflecting the average height and the variability in height, respectively.\n",
    "\n",
    "2. Test scores: The normal distribution can be used to model the distribution of test scores in a population, with the mean and standard deviation reflecting the average score and the spread of scores, respectively.\n",
    "\n",
    "3. Errors in measurements: The normal distribution can be used to model the distribution of errors in measurements, with the mean and standard deviation reflecting the expected amount of error and the variability of error, respectively.\n",
    "\n",
    "In a normal distribution, the mean parameter determines the location of the peak of the distribution, while the standard deviation parameter determines the spread of the distribution. Specifically, increasing the mean shifts the entire distribution to the right, while increasing the standard deviation makes the distribution wider and flatter. Conversely, decreasing the mean shifts the entire distribution to the left, while decreasing the standard deviation makes the distribution narrower and taller.\n",
    "\n",
    "\n",
    "\n"
   ]
  },
  {
   "cell_type": "markdown",
   "id": "977e4508-e124-49c8-a20a-538538038109",
   "metadata": {},
   "source": [
    "## Question 04 - Explain the importance of Normal Distribution. Give a few real-life examples of Normal Distribution."
   ]
  },
  {
   "cell_type": "markdown",
   "id": "7a4c65d1-ea9f-4284-b6a0-ed64ee2d3260",
   "metadata": {},
   "source": [
    "# Answer :-\n",
    "\n",
    "Normal distribution is one of the most important distributions in statistics and probability theory. It is widely used in various fields including finance, physics, engineering, social sciences, and many others. The importance of normal distribution lies in the following aspects:\n",
    "\n",
    "1. Central Limit Theorem: The central limit theorem states that the sum of a large number of independent and identically distributed random variables approaches a normal distribution. This makes the normal distribution a fundamental concept in probability theory and a building block for many statistical models.\n",
    "\n",
    "2. Parameter estimation: Normal distribution is often used as a model for real-world data. By estimating the mean and variance of the normal distribution, we can estimate the underlying parameters of the data.\n",
    "\n",
    "3. Hypothesis testing: Normal distribution is used in hypothesis testing to determine whether a sample mean is significantly different from a population mean.\n",
    "\n",
    "Some real-life examples where normal distribution is applicable are:\n",
    "\n",
    "1. Height: The distribution of human height follows a normal distribution with mean around 5 feet and 9 inches and a standard deviation of 3 inches.\n",
    "\n",
    "2. Exam scores: In a large class, the distribution of exam scores follows a normal distribution with mean around 70 and a standard deviation of 10.\n",
    "\n",
    "3. Stock prices: The daily returns of stock prices follow a normal distribution with mean around 0% and a standard deviation of around 1%.\n",
    "\n",
    "4. IQ scores: IQ scores follow a normal distribution with mean around 100 and a standard deviation of 15.\n",
    "\n",
    "5. Blood pressure: The distribution of blood pressure in a population follows a normal distribution with mean around 120/80 mmHg and a standard deviation of 10/8 mmHg.\n",
    "\n",
    "In each of these examples, the parameters of the normal distribution, such as mean and standard deviation, relate to the shape of the distribution and provide important insights into the underlying data."
   ]
  },
  {
   "cell_type": "markdown",
   "id": "f9e9ce4e-1d6a-4a63-b891-9ed3f2962d1a",
   "metadata": {},
   "source": [
    "## Question 05 - What is Bernaulli Distribution? Give an Example. What is the difference between Bernoulli Distribution and Binomial Distribution?"
   ]
  },
  {
   "cell_type": "markdown",
   "id": "1519e313-7c28-468f-b87d-7d55346f528a",
   "metadata": {},
   "source": [
    "# Answer :-\n",
    "\n",
    "The Bernoulli distribution is a discrete probability distribution that describes the outcomes of a single binary event in which there are two possible outcomes: success (with probability p) or failure (with probability q=1-p). The Bernoulli distribution is characterized by a single parameter p, which represents the probability of success.\n",
    "\n",
    "Example: Tossing a coin where the outcome can be either head or tail. Here, p= probability of getting a head = 0.5 and q= probability of getting a tail = 0.5.\n",
    "\n",
    "The difference between Bernoulli distribution and Binomial distribution is that Bernoulli distribution is used to model a single trial of a binary event with a probability of success p, whereas Binomial distribution is used to model the number of successes in a fixed number of independent trials of a binary event with probability of success p.\n",
    "\n",
    "Binomial distribution can be derived from Bernoulli distribution by conducting n independent trials of a binary event, where each trial has a probability of success p. The number of successes in these n trials follows a binomial distribution with parameters n and p."
   ]
  },
  {
   "cell_type": "markdown",
   "id": "3ac0ac86-5c22-4db9-8394-643ccf79fc0a",
   "metadata": {},
   "source": [
    "## Question 06 - Consider a dataset with a mean of 50 and a standard deviation of 10. If we assume that the dataset is normally distributed, what is the probability that a randomly selected observation will be greater than 60? Use the appropriate formula and show your calculations."
   ]
  },
  {
   "cell_type": "markdown",
   "id": "337d5ed0-d7ff-4efb-87b1-4d9d2fdfb20c",
   "metadata": {},
   "source": [
    "# Answer :-\n",
    "\n",
    "To solve this problem, we can use the Z-score formula:\n",
    "\n",
    "Z = (X - μ) / σ\n",
    "\n",
    "where:\n",
    "X = the value we're interested in (in this case, 60)\n",
    "μ = the mean of the distribution (50)\n",
    "σ = the standard deviation of the distribution (10)\n",
    "\n",
    "Substituting these values into the formula, we get:\n",
    "\n",
    "Z = (60 - 50) / 10 = 1\n",
    "\n",
    "Now, we need to look up the probability associated with a Z-score of 1 in a standard normal distribution table (or use a calculator). The table tells us that the probability of a Z-score being less than 1 is 0.8413.\n",
    "\n",
    "However, we're interested in the probability that a randomly selected observation will be greater than 60, so we need to subtract this value from 1:\n",
    "\n",
    "P(X > 60) = 1 - P(X < 60) = 1 - 0.8413 = 0.1587\n",
    "\n",
    "Therefore, the probability that a randomly selected observation will be greater than 60 is 0.1587 (or approximately 16%)."
   ]
  },
  {
   "cell_type": "markdown",
   "id": "5b0c0ad6-6bae-4b23-898a-1a43f156b417",
   "metadata": {},
   "source": [
    "# Question 07 - Explain uniform Distribution with an example."
   ]
  },
  {
   "cell_type": "markdown",
   "id": "65219320-20ef-42fa-851f-b9022888c777",
   "metadata": {},
   "source": [
    "# Answer :-\n",
    "\n",
    "Uniform distribution is a continuous probability distribution that describes a situation where all values in a given range are equally likely to occur. In other words, it assumes that any value within a given interval has the same chance of being observed.\n",
    "\n",
    "For example, consider a fair six-sided die. Each face has an equal probability of showing up when the die is rolled. The probability of rolling any number from 1 to 6 is 1/6. This is an example of a discrete uniform distribution since the possible outcomes are discrete (the numbers on the faces of the die).\n",
    "\n",
    "Another example is the continuous uniform distribution, which assumes that any value within a given interval has an equal probability of occurring. For instance, the height of people in a certain age range may follow a continuous uniform distribution between a minimum and maximum height. In this case, any height within this range is equally likely to occur.\n",
    "\n",
    "In summary, the uniform distribution is useful when all values in a range are equally likely to occur, and there is no reason to expect any value to be more or less likely than any other value in that range."
   ]
  },
  {
   "cell_type": "markdown",
   "id": "6e1e60c4-c893-4ed0-aab6-78e56b546693",
   "metadata": {},
   "source": [
    "# Question 08 - What is the z score? State the importance of the z score."
   ]
  },
  {
   "cell_type": "markdown",
   "id": "5da6fdac-0737-42be-ad7f-dc6cd34333ed",
   "metadata": {},
   "source": [
    "# Answer :-\n",
    "\n",
    "The z-score is a statistical measure that tells us how many standard deviations an observation or data point is away from the mean of the distribution. It is calculated by subtracting the mean from the observation and then dividing the result by the standard deviation.\n",
    "\n",
    "The importance of the z-score lies in its ability to standardize data and allow us to compare observations from different distributions. By converting data into z-scores, we can easily identify outliers or unusual observations that are far away from the mean of the distribution. We can also use the z-score to calculate probabilities associated with certain observations or to compare observations from different distributions.\n",
    "\n",
    "For example, suppose we have two datasets with different means and standard deviations. We can convert the observations in each dataset into z-scores and compare them directly, regardless of their original scales. This allows us to make meaningful comparisons and draw conclusions based on the relative positions of the observations in each dataset."
   ]
  },
  {
   "cell_type": "markdown",
   "id": "bb314483-c2af-41be-ac18-f0598b0168d3",
   "metadata": {},
   "source": [
    "## Question 09 - What is Central Limit Theorem? State the significance of the Central Limit Theorem."
   ]
  },
  {
   "cell_type": "markdown",
   "id": "989222dc-bf54-47b0-b9a7-02f670939b19",
   "metadata": {},
   "source": [
    "# Answer :-\n",
    "\n",
    "The Central Limit Theorem (CLT) is a statistical theorem that states that the sampling distribution of the means of a large number of independent, identically distributed random variables will be approximately normally distributed, regardless of the underlying distribution of the population, as long as the sample size is large enough.\n",
    "\n",
    "In simpler terms, the CLT states that if we take repeated samples from a population, the sample means will tend to follow a normal distribution, with the mean of the sample means being equal to the population mean and the standard deviation of the sample means being equal to the standard deviation of the population divided by the square root of the sample size.\n",
    "\n",
    "The significance of the CLT lies in its wide applicability. It allows us to make statistical inferences about a population based on a sample, even if we do not know the underlying distribution of the population. The CLT is the foundation for many statistical techniques, including hypothesis testing, confidence intervals, and linear regression."
   ]
  },
  {
   "cell_type": "markdown",
   "id": "b9361cf0-bb82-49ae-a4c4-614b32484e51",
   "metadata": {},
   "source": [
    "# Question 10 - State the assumptions of the Central Limit Theorem."
   ]
  },
  {
   "cell_type": "markdown",
   "id": "e279709f-5563-4872-be84-383ec501e17c",
   "metadata": {},
   "source": [
    "# Answer :-\n",
    "\n",
    "The Central Limit Theorem (CLT) makes several assumptions, including:\n",
    "\n",
    "1. Random Sampling: The data should be collected using random sampling methods.\n",
    "2. Independence: The observations should be independent of each other.\n",
    "3. Finite Variance: The population from which the samples are drawn should have a finite variance.\n",
    "4. Sample Size: The sample size should be sufficiently large, usually greater than or equal to 30, though in some cases, smaller sample sizes may be acceptable depending on the distribution of the population.\n",
    "\n",
    "These assumptions are necessary for the CLT to hold true and for the sample mean to be normally distributed, regardless of the underlying population distribution."
   ]
  },
  {
   "cell_type": "code",
   "execution_count": null,
   "id": "ba98a6e1-2c9d-4bb3-9803-837552145cec",
   "metadata": {},
   "outputs": [],
   "source": []
  }
 ],
 "metadata": {
  "kernelspec": {
   "display_name": "Python 3 (ipykernel)",
   "language": "python",
   "name": "python3"
  },
  "language_info": {
   "codemirror_mode": {
    "name": "ipython",
    "version": 3
   },
   "file_extension": ".py",
   "mimetype": "text/x-python",
   "name": "python",
   "nbconvert_exporter": "python",
   "pygments_lexer": "ipython3",
   "version": "3.10.8"
  }
 },
 "nbformat": 4,
 "nbformat_minor": 5
}
